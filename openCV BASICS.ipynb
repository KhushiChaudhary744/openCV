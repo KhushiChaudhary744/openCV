{
 "cells": [
  {
   "cell_type": "markdown",
   "metadata": {},
   "source": [
    "# Documentation"
   ]
  },
  {
   "cell_type": "markdown",
   "metadata": {},
   "source": [
    "## Reading images and videos"
   ]
  },
  {
   "cell_type": "code",
   "execution_count": 1,
   "metadata": {},
   "outputs": [],
   "source": [
    "import cv2 as cv\n",
    "import numpy as np"
   ]
  },
  {
   "cell_type": "code",
   "execution_count": 2,
   "metadata": {},
   "outputs": [
    {
     "data": {
      "text/plain": [
       "100"
      ]
     },
     "execution_count": 2,
     "metadata": {},
     "output_type": "execute_result"
    }
   ],
   "source": [
    "img = cv.imread(\"C:/Users/admin/Pictures/anime cool stuff/tatsuya.jpg\")  #takes path\n",
    "\n",
    "cv.imshow(\"Tatsuya Shiba\",img)\n",
    "\n",
    "cv.waitKey(0)               #makes the shell wait for an infinite amt of time till a key is pressed."
   ]
  },
  {
   "cell_type": "code",
   "execution_count": 10,
   "metadata": {},
   "outputs": [],
   "source": [
    "capture = cv.VideoCapture(\"C:/Users/admin/Videos/anime/inari kon kon/EP.1.480p.mp4\")\n",
    "\n",
    "while True:\n",
    "    isTrue, frame = capture.read()\n",
    "    \n",
    "    cv.imshow(\"Video\",frame)\n",
    "    \n",
    "    if cv.waitKey(20) & 0xFF==ord(\"d\"):\n",
    "        break\n",
    "\n",
    "capture.release()\n",
    "cv.destroyAllWindows()"
   ]
  },
  {
   "cell_type": "markdown",
   "metadata": {},
   "source": [
    "## Resizing & Rescaling"
   ]
  },
  {
   "cell_type": "code",
   "execution_count": 8,
   "metadata": {},
   "outputs": [],
   "source": [
    "#image video and live video\n",
    "def rescaleFrame(frame,scale=0.7):\n",
    "    width =  int(frame.shape[1]*scale)\n",
    "    height =  int(frame.shape[0]*scale)\n",
    "    dimensions = (width,height)\n",
    "    return cv.resize(frame,dimensions,interpolation=cv.INTER_AREA)"
   ]
  },
  {
   "cell_type": "code",
   "execution_count": null,
   "metadata": {},
   "outputs": [],
   "source": [
    "#live video\n",
    "def changeRes(width,height):\n",
    "    capture.set(3,width)\n",
    "    capture.set(4,height)"
   ]
  },
  {
   "cell_type": "code",
   "execution_count": null,
   "metadata": {},
   "outputs": [],
   "source": [
    "img_resized = rescaleFrame(img,scale=0.7)\n",
    "cv.imshow(\"tatsuya_img\",img_resized)\n",
    "cv.waitKey(0)"
   ]
  },
  {
   "cell_type": "code",
   "execution_count": 9,
   "metadata": {},
   "outputs": [],
   "source": [
    "capture = cv.VideoCapture(\"C:/Users/admin/Videos/anime/inari kon kon/EP.1.480p.mp4\")\n",
    "\n",
    "while True:\n",
    "    isTrue, frame = capture.read()\n",
    "    frame_resize = rescaleFrame(frame,scale=0.7)\n",
    "    cv.imshow(\"Video\",frame_resize)\n",
    "    \n",
    "    if cv.waitKey(20) & 0xFF==ord(\"d\"):\n",
    "        break\n",
    "\n",
    "capture.release()\n",
    "cv.destroyAllWindows()"
   ]
  },
  {
   "cell_type": "markdown",
   "metadata": {},
   "source": [
    "## Draw shapes and write text"
   ]
  },
  {
   "cell_type": "code",
   "execution_count": 4,
   "metadata": {},
   "outputs": [],
   "source": [
    "import numpy as np\n",
    "\n",
    "blank_1 = np.zeros((500,500,3),dtype = 'uint8')\n",
    "blank_2 = np.zeros((500,500,3),dtype = 'uint8')\n",
    "blank_3 = np.zeros((500,500,3),dtype = 'uint8')\n",
    "blank_4 = np.zeros((500,500,3),dtype = 'uint8')\n",
    "cv.imshow(\"blank\",blank_1)\n",
    "\n",
    "#painting green\n",
    "blank_1[:]=0,255,0\n",
    "cv.imshow(\"green\",blank_1)\n",
    "\n",
    "#painting red\n",
    "blank_2[:]=0,0,255\n",
    "cv.imshow(\"red\",blank_2)\n",
    "\n",
    "#painting blue\n",
    "blank_3[:]=255,0,0\n",
    "cv.imshow(\"blue\",blank_3)\n",
    "\n",
    "#painting a portion only\n",
    "blank_4[200:300, 300:400] = 0,0,255\n",
    "cv.imshow(\"portion\",blank_4)\n",
    "\n",
    "cv.waitKey(0)"
   ]
  },
  {
   "cell_type": "code",
   "execution_count": null,
   "metadata": {},
   "outputs": [],
   "source": [
    "#rectangle\n",
    "blank = np.zeros((500,500,3),dtype = 'uint8')\n",
    "cv.rectangle(blank,(0,0),(250,250),(0,255,0),thickness=-1)\n",
    "cv.imshow(\"Rectangle\",blank)\n",
    "cv.waitKey(0)"
   ]
  },
  {
   "cell_type": "code",
   "execution_count": null,
   "metadata": {},
   "outputs": [],
   "source": [
    "#circle\n",
    "blank = np.zeros((500,500,3),dtype = 'uint8')\n",
    "cv.rectangle(blank,(0,0),(blank.shape[1]//2,blank.shape[0]//2),(0,255,0),thickness=-1)\n",
    "cv.imshow(\"Circle\",blank)\n",
    "cv.waitKey(0)"
   ]
  },
  {
   "cell_type": "code",
   "execution_count": null,
   "metadata": {},
   "outputs": [],
   "source": [
    "#draw a line\n",
    "blank = np.zeros((500,500,3),dtype = 'uint8')\n",
    "cv.rectangle(blank,(0,0),(blank.shape[1]//2,blank.shape[0]//2),(0,255,0))\n",
    "cv.imshow(\"Line\",blank)\n",
    "cv.waitKey(0)"
   ]
  },
  {
   "cell_type": "code",
   "execution_count": 4,
   "metadata": {},
   "outputs": [
    {
     "data": {
      "text/plain": [
       "-1"
      ]
     },
     "execution_count": 4,
     "metadata": {},
     "output_type": "execute_result"
    }
   ],
   "source": [
    "# writeing\n",
    "blank = np.zeros((500,500,3),dtype = 'uint8')\n",
    "cv.putText(blank,\"Hello\",(225,225),cv.FONT_HERSHEY_TRIPLEX,1.0,(0,255,0),2)\n",
    "cv.imshow(\"Line\",blank)\n",
    "cv.waitKey(0)"
   ]
  },
  {
   "cell_type": "markdown",
   "metadata": {},
   "source": [
    "## 5 essential functions"
   ]
  },
  {
   "cell_type": "code",
   "execution_count": 2,
   "metadata": {},
   "outputs": [
    {
     "data": {
      "text/plain": [
       "100"
      ]
     },
     "execution_count": 2,
     "metadata": {},
     "output_type": "execute_result"
    }
   ],
   "source": [
    "img = cv.imread(\"C:/Users/admin/Pictures/anime cool stuff/tatsuya.jpg\")  #takes path\n",
    "\n",
    "cv.imshow(\"Tatsuya Shiba\",img)\n",
    "\n",
    "cv.waitKey(0)               #makes the shell wait for an infinite amt of time till a key is pressed."
   ]
  },
  {
   "cell_type": "code",
   "execution_count": 7,
   "metadata": {},
   "outputs": [
    {
     "data": {
      "text/plain": [
       "-1"
      ]
     },
     "execution_count": 7,
     "metadata": {},
     "output_type": "execute_result"
    }
   ],
   "source": [
    "# Converting an image to GrayScale\n",
    "gray = cv.cvtColor(img,cv.COLOR_BGR2GRAY)\n",
    "cv.imshow(\"Tatsuya Shiba but in gray\",gray)\n",
    "cv.waitKey(0)"
   ]
  },
  {
   "cell_type": "code",
   "execution_count": null,
   "metadata": {},
   "outputs": [],
   "source": [
    "# Blur \n",
    "blur = cv.GaussianBlur(img,(3,3),cv.BODER_DEFAULT)\n",
    "cv.imshow(\"Tatsuya Shiba but in gray\",blur)\n",
    "cv.waitKey(0)"
   ]
  },
  {
   "cell_type": "code",
   "execution_count": 3,
   "metadata": {},
   "outputs": [
    {
     "data": {
      "text/plain": [
       "100"
      ]
     },
     "execution_count": 3,
     "metadata": {},
     "output_type": "execute_result"
    }
   ],
   "source": [
    "# Edge cascade\n",
    "\n",
    "canny = cv.Canny(img,125,175)\n",
    "cv.imshow(\"Tatsuya Shiba but only edges\",canny)\n",
    "cv.waitKey(0)"
   ]
  },
  {
   "cell_type": "code",
   "execution_count": 4,
   "metadata": {},
   "outputs": [
    {
     "data": {
      "text/plain": [
       "100"
      ]
     },
     "execution_count": 4,
     "metadata": {},
     "output_type": "execute_result"
    }
   ],
   "source": [
    "#dilation \n",
    "dilated = cv.dilate(canny,(7,7),iterations=5)\n",
    "cv.imshow(\"Tatsuya Shiba with dilated edges\",dilated)\n",
    "cv.waitKey(0)"
   ]
  },
  {
   "cell_type": "code",
   "execution_count": null,
   "metadata": {},
   "outputs": [],
   "source": [
    "# eroding\n",
    "eroded = cv.erode(dilated,(3,3),iteration=2)\n",
    "cv.imshow(\"Tatsuya Shiba with dilated edges\",eroded)\n",
    "cv.waitKey(0)"
   ]
  },
  {
   "cell_type": "code",
   "execution_count": 3,
   "metadata": {},
   "outputs": [
    {
     "data": {
      "text/plain": [
       "100"
      ]
     },
     "execution_count": 3,
     "metadata": {},
     "output_type": "execute_result"
    }
   ],
   "source": [
    "#resize \n",
    "resized = cv.resize(img,(500,500), interpolation=cv.INTER_CUBIC)\n",
    "cv.imshow(\"Tatsuya Shiba resized\",resized)\n",
    "cv.waitKey(0)"
   ]
  },
  {
   "cell_type": "code",
   "execution_count": null,
   "metadata": {},
   "outputs": [],
   "source": [
    "#Cropping \n",
    "cropped = img[50:200,200:400]\n",
    "cv.imshow(\"Cropped\",cropped)"
   ]
  },
  {
   "cell_type": "markdown",
   "metadata": {},
   "source": [
    "## Image Transformation in openCV"
   ]
  },
  {
   "cell_type": "code",
   "execution_count": 3,
   "metadata": {},
   "outputs": [
    {
     "data": {
      "text/plain": [
       "100"
      ]
     },
     "execution_count": 3,
     "metadata": {},
     "output_type": "execute_result"
    }
   ],
   "source": [
    "# Translation (shifting x or y axxis or both)\n",
    "\n",
    "def translate(img,x,y):\n",
    "    transMat = np.float32([[1,0,x],[0,1,y]])\n",
    "    dimensions = (img.shape[1],img.shape[0])\n",
    "    return cv.warpAffine(img,transMat,dimensions)\n",
    "\n",
    "#a -x--> left\n",
    "#a +x--> right\n",
    "#a +y--> down\n",
    "#a -y--> Up\n",
    "\n",
    "\n",
    "translated = translate(img,100,100)\n",
    "cv.imshow(\"translated\",translated)\n",
    "\n",
    "cv.waitKey(0)  "
   ]
  },
  {
   "cell_type": "code",
   "execution_count": 4,
   "metadata": {},
   "outputs": [
    {
     "data": {
      "text/plain": [
       "100"
      ]
     },
     "execution_count": 4,
     "metadata": {},
     "output_type": "execute_result"
    }
   ],
   "source": [
    "#Rotation\n",
    "\n",
    "def rotate(imf, angle, rotPoint = None):\n",
    "    (height,width)=img.shape[:2]\n",
    "    \n",
    "    if rotPoint is None:\n",
    "        rotPoint = (width//2,height//2)\n",
    "        \n",
    "    rotMat = cv.getRotationMatrix2D(rotPoint, angle, 1.0)\n",
    "    dimensions = (width,height)\n",
    "    \n",
    "    return cv.warpAffine(img, rotMat, dimensions)\n",
    "\n",
    "rotated = rotate(img,45)\n",
    "cv.imshow(\"rotated\",rotated)\n",
    "\n",
    "cv.waitKey(0)  "
   ]
  },
  {
   "cell_type": "code",
   "execution_count": null,
   "metadata": {},
   "outputs": [],
   "source": [
    "#Resizing\n",
    "resized =cv.resize(img, (500,500), interpolation=cv.INTER_CUBIC)\n",
    "cv.imshow(\"Resized\", resized)"
   ]
  },
  {
   "cell_type": "code",
   "execution_count": null,
   "metadata": {},
   "outputs": [],
   "source": [
    "#Flipping\n",
    "flip = cv.flip(img, 0)\n",
    "\n",
    "#  0 ->vertically via x-axis\n",
    "#  1 -> horiziontally via y-axis\n",
    "# -1 -> both\n",
    "\n",
    "cv.imshow(\"flip\",flip)\n",
    "cv.waitKey(0)  "
   ]
  },
  {
   "cell_type": "code",
   "execution_count": null,
   "metadata": {},
   "outputs": [],
   "source": [
    "#Cropping\n",
    "cropped = img[200:400,300:400]\n",
    "cv.imshow(\"crop\",cropped)\n",
    "cv.waitKey(0)"
   ]
  },
  {
   "cell_type": "markdown",
   "metadata": {},
   "source": [
    "## Contour Detection"
   ]
  },
  {
   "cell_type": "markdown",
   "metadata": {},
   "source": [
    "### Method 1 -"
   ]
  },
  {
   "cell_type": "code",
   "execution_count": 3,
   "metadata": {},
   "outputs": [
    {
     "name": "stdout",
     "output_type": "stream",
     "text": [
      "There are 206 contours\n"
     ]
    },
    {
     "data": {
      "text/plain": [
       "100"
      ]
     },
     "execution_count": 3,
     "metadata": {},
     "output_type": "execute_result"
    }
   ],
   "source": [
    "gray = cv.cvtColor(img, cv.COLOR_BGR2GRAY)\n",
    "cv.imshow(\"Tatsuya Shiba\",gray)\n",
    "#blur = cv.GaussianBlur(gray, (5,5), cv.BODER_DEFAULT)\n",
    "#cv.imshow(\"BLUR\",blur)\n",
    "#blur the image in case there are too many contours\n",
    "canny = cv.Canny(img,125,175)\n",
    "cv.imshow(\"Tatsuya Shiba\",canny)\n",
    "contours, heiarchies = cv.findContours(canny, cv.RETR_LIST, cv.CHAIN_APPROX_NONE)\n",
    "\n",
    "#RETR_LIST = all\n",
    "#RETR_EXTERNAL = boundaries\n",
    "#RETR_TREE = contours in a heiarchy\n",
    "\n",
    "#CHAIN_APPROX_NONE = returns all \n",
    "#CHAIN_APPROX_SIMPLE = compreses the contours\n",
    "\n",
    "print(f'There are {len(contours)} contours')\n",
    "cv.waitKey(0)"
   ]
  },
  {
   "cell_type": "markdown",
   "metadata": {},
   "source": [
    "### Method 2 -"
   ]
  },
  {
   "cell_type": "code",
   "execution_count": null,
   "metadata": {},
   "outputs": [],
   "source": [
    "gray = cv.cvtColor(img, cv.COLOR_BGR2GRAY)\n",
    "cv.imshow(\"Tatsuya Shiba\",gray)\n",
    "\n",
    "ret, thresh = cv.threshold(gray,125,255, cv.THRESH_BINARY)\n",
    "cv.imshow(\"Tatsuya Shiba\",thresh)\n",
    "\n",
    "contours, heiarchies = cv.findContours(thresh, cv.RETR_LIST, cv.CHAIN_APPROX_NONE)\n",
    "\n",
    "print(f'There are {len(contours)} contours')\n",
    "\n",
    "cv.waitKey(0)"
   ]
  },
  {
   "cell_type": "markdown",
   "metadata": {},
   "source": [
    "### Drawing the contours "
   ]
  },
  {
   "cell_type": "code",
   "execution_count": null,
   "metadata": {},
   "outputs": [],
   "source": [
    "cv.drawContours(blank, contours,-1,(0,0,255),1)\n",
    "cv.imshow(\"Contours\", blank)\n",
    " \n",
    "cv.waitKey(0)"
   ]
  }
 ],
 "metadata": {
  "kernelspec": {
   "display_name": "Python 3",
   "language": "python",
   "name": "python3"
  },
  "language_info": {
   "codemirror_mode": {
    "name": "ipython",
    "version": 3
   },
   "file_extension": ".py",
   "mimetype": "text/x-python",
   "name": "python",
   "nbconvert_exporter": "python",
   "pygments_lexer": "ipython3",
   "version": "3.8.5"
  }
 },
 "nbformat": 4,
 "nbformat_minor": 4
}
