{
 "cells": [
  {
   "cell_type": "code",
   "execution_count": null,
   "metadata": {},
   "outputs": [],
   "source": [
    "import cv2 as cv\n",
    "import numpy as np\n",
    "img = cv.imread(\"Files/tatsuya.jpg\")  #takes path or image \n",
    "\n",
    "cv.imshow(\"Tatsuya Shiba\",img)\n",
    "\n",
    "cv.waitKey(0)     "
   ]
  },
  {
   "cell_type": "markdown",
   "metadata": {},
   "source": [
    "## Colour Spaces"
   ]
  },
  {
   "cell_type": "code",
   "execution_count": null,
   "metadata": {},
   "outputs": [],
   "source": [
    "#BGR to Grayscale\n",
    "\n",
    "gray = cv.cvtColor(img,cv.COLOR_BGR2GRAY)\n",
    "cv.imshow(\"Tatsuya Shiba but in gray\",gray)\n",
    "cv.waitKey(0)"
   ]
  },
  {
   "cell_type": "code",
   "execution_count": null,
   "metadata": {},
   "outputs": [],
   "source": [
    "#BGR to HSV\n",
    "\n",
    "hsv = cv.cvtColor(img,cv.COLOR_BGR2HSV)\n",
    "cv.imshow(\"Tatsuya Shiba but in HSV\",HSV)\n",
    "cv.waitKey(0)"
   ]
  },
  {
   "cell_type": "code",
   "execution_count": null,
   "metadata": {},
   "outputs": [],
   "source": [
    "#BGR to LAB\n",
    "\n",
    "lab = cv.cvtColor(img,cv.COLOR_BGR2LAB)\n",
    "cv.imshow(\"Tatsuya Shiba but in LAB\",lab)\n",
    "cv.waitKey(0)"
   ]
  },
  {
   "cell_type": "markdown",
   "metadata": {},
   "source": [
    "If we try to display images using some library like mathplotlib, the image is displayed in RGB"
   ]
  },
  {
   "cell_type": "code",
   "execution_count": null,
   "metadata": {},
   "outputs": [],
   "source": [
    "import matplotlib.pyplot as plt\n",
    "\n",
    "plt.imshow(img)\n",
    "plt.show()"
   ]
  },
  {
   "cell_type": "code",
   "execution_count": null,
   "metadata": {},
   "outputs": [],
   "source": [
    "#BGR to RGB\n",
    "\n",
    "rgb = cv.cvtColor(img,cv.COLOR_BGR2RGB)\n",
    "\n",
    "# display in cv\n",
    "cv.imshow(\"Tatsuya Shiba but in RGB\",rgb)\n",
    "cv.waitKey(0)\n",
    "\n",
    "# display in matplotlib\n",
    "plt.imshow(img)\n",
    "plt.show()"
   ]
  },
  {
   "cell_type": "markdown",
   "metadata": {},
   "source": [
    "We observe that now while matplotlib is showing the true image openCV is doing the opposite."
   ]
  },
  {
   "cell_type": "markdown",
   "metadata": {},
   "source": [
    "We can do the reverse and convert to BGR but we cannot convert grayscale to HSV. "
   ]
  },
  {
   "cell_type": "code",
   "execution_count": null,
   "metadata": {},
   "outputs": [],
   "source": [
    "hsv_to_bgr = cv.cvtColor(hsv, cv.COLOR_HSV2BGR)\n",
    "lab_to_bgr = cv.cvtColor(lab, cv.COLOR_LAB2BGR)\n",
    "#etc can be used to convert hsv, lab to bgr"
   ]
  },
  {
   "cell_type": "markdown",
   "metadata": {},
   "source": [
    "## Color Channels"
   ]
  },
  {
   "cell_type": "code",
   "execution_count": null,
   "metadata": {},
   "outputs": [],
   "source": [
    "b,g,r=sc.split(img)  #by default splits into blue, green and red\n",
    "\n",
    "cv.imshow(\"Tatsuya Shiba but only R\",r)\n",
    "cv.imshow(\"Tatsuya Shiba but only G\",g)\n",
    "cv.imshow(\"Tatsuya Shiba but only B\",b)\n",
    "\n",
    "#printing shapes and dimensions\n",
    "print(img.shape)\n",
    "print(r.shape)\n",
    "print(g.shape)\n",
    "print(b.shape)\n",
    "\n",
    "cv.waitKey(0)"
   ]
  },
  {
   "cell_type": "markdown",
   "metadata": {},
   "source": [
    "These are shown as grayscale images and illustrate the intensity of the color in each region.\n",
    "(White is the color)"
   ]
  },
  {
   "cell_type": "markdown",
   "metadata": {},
   "source": [
    "We can merge the images to optain the original image"
   ]
  },
  {
   "cell_type": "code",
   "execution_count": null,
   "metadata": {},
   "outputs": [],
   "source": [
    "#Merging\n",
    "\n",
    "merged = cv.merge([b,g,r])\n",
    "cv.imshow(\"Tatsuya Shiba merged back\",merge)\n",
    "\n",
    "cv.waitKey(0)"
   ]
  },
  {
   "cell_type": "markdown",
   "metadata": {},
   "source": [
    "We can obtain standalone images of the colours as well."
   ]
  },
  {
   "cell_type": "code",
   "execution_count": null,
   "metadata": {},
   "outputs": [],
   "source": [
    "blank = np.zeros(img.shape[:2],dtype=\"uint8\")\n",
    "\n",
    "blue = cv.merge([b,blank,blank])\n",
    "green = cv.merge([blank,g,blank])\n",
    "red = cv.merge([blank,blank,r])\n",
    "\n",
    "cv.imshow(\"Tatsuya Shiba but only blue\",blue)\n",
    "cv.imshow(\"Tatsuya Shiba but only green\",green)\n",
    "cv.imshow(\"Tatsuya Shiba but only red\",red)\n",
    "\n",
    "cv.waitKey(0)"
   ]
  },
  {
   "cell_type": "markdown",
   "metadata": {},
   "source": [
    "## Blurring & Smoothning Techniques"
   ]
  },
  {
   "cell_type": "markdown",
   "metadata": {},
   "source": [
    "### Average Blurring"
   ]
  },
  {
   "cell_type": "code",
   "execution_count": null,
   "metadata": {},
   "outputs": [],
   "source": [
    "import argparse\n",
    "\n",
    "# construct the argument parser and parse the arguments\n",
    "ap = argparse.ArgumentParser()\n",
    "ap.add_argument(\"-i\", \"--image\", type=str, default=\"adrian.png\",help=\"path to input image\")\n",
    "args = vars(ap.parse_args())\n",
    "\n",
    "# load the image, display it to our screen, and initialize a list of\n",
    "# kernel sizes (so we can evaluate the relationship between kernel\n",
    "# size and amount of blurring)\n",
    "kernelSizes = [(3, 3), (9, 9), (15, 15)]\n",
    "# loop over the kernel sizes\n",
    "for (kX, kY) in kernelSizes:\n",
    "    # apply an \"average\" blur to the image using the current kernel\n",
    "    # size\n",
    "    blurred = cv2.blur(img, (kX, kY))\n",
    "    cv.imshow(\"Average ({}, {})\".format(kX, kY), blurred)\n",
    "    cv.waitKey(0)"
   ]
  },
  {
   "cell_type": "markdown",
   "metadata": {},
   "source": [
    "### Gaussian blurring "
   ]
  },
  {
   "cell_type": "code",
   "execution_count": null,
   "metadata": {},
   "outputs": [],
   "source": [
    "# loop over the kernel sizes again\n",
    "for (kX, kY) in kernelSizes:\n",
    "    # apply a \"Gaussian\" blur to the image\n",
    "    blurred = cv.GaussianBlur(image, (kX, kY), 0)\n",
    "    cv.imshow(\"Gaussian ({}, {})\".format(kX, kY), blurred)\n",
    "    cv.waitKey(0)"
   ]
  },
  {
   "cell_type": "markdown",
   "metadata": {},
   "source": [
    "### Median blurring"
   ]
  },
  {
   "cell_type": "code",
   "execution_count": null,
   "metadata": {},
   "outputs": [],
   "source": [
    "# loop over the kernel sizes a final time\n",
    "for k in (3, 9, 15):\n",
    "    # apply a \"median\" blur to the image\n",
    "    blurred = cv.medianBlur(img, k)\n",
    "    cv.imshow(\"Median {}\".format(k), blurred)\n",
    "    cv.waitKey(0)"
   ]
  },
  {
   "cell_type": "code",
   "execution_count": 1,
   "metadata": {},
   "outputs": [],
   "source": [
    "### Bilateral blurring"
   ]
  },
  {
   "cell_type": "code",
   "execution_count": null,
   "metadata": {},
   "outputs": [],
   "source": [
    "import argparse\n",
    "\n",
    "# construct the argument parser and parse the arguments\n",
    "ap = argparse.ArgumentParser()\n",
    "ap.add_argument(\"-i\", \"--image\", type=str, default=\"adrian.png\",\n",
    "    help=\"path to input image\")\n",
    "args = vars(ap.parse_args())\n",
    "\n",
    "# load the image, display it to our screen, and construct a list of\n",
    "# bilateral filtering parameters that we are going to explore\n",
    "params = [(11, 21, 7), (11, 41, 21), (11, 61, 39)]\n",
    "\n",
    "# loop over the diameter, sigma color, and sigma space\n",
    "for (diameter, sigmaColor, sigmaSpace) in params:\n",
    "    # apply bilateral filtering to the image using the current set of\n",
    "    # parameters\n",
    "    blurred = cv.bilateralFilter(img, diameter, sigmaColor, sigmaSpace)\n",
    "    # show the output image and associated parameters\n",
    "    title = \"Blurred d={}, sc={}, ss={}\".format(\n",
    "        diameter, sigmaColor, sigmaSpace)\n",
    "    cv.imshow(title, blurred)\n",
    "    cv.waitKey(0)"
   ]
  }
 ],
 "metadata": {
  "kernelspec": {
   "display_name": "Python 3",
   "language": "python",
   "name": "python3"
  },
  "language_info": {
   "codemirror_mode": {
    "name": "ipython",
    "version": 3
   },
   "file_extension": ".py",
   "mimetype": "text/x-python",
   "name": "python",
   "nbconvert_exporter": "python",
   "pygments_lexer": "ipython3",
   "version": "3.8.5"
  }
 },
 "nbformat": 4,
 "nbformat_minor": 4
}
